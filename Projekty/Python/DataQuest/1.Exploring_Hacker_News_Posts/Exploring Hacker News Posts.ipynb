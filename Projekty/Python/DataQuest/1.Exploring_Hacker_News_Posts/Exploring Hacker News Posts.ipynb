{
 "cells": [
  {
   "cell_type": "markdown",
   "id": "17515a11",
   "metadata": {},
   "source": [
    "# Exploring Hacker News Posts"
   ]
  },
  {
   "cell_type": "markdown",
   "id": "1585db8f",
   "metadata": {},
   "source": [
    "## 1  Introduction"
   ]
  },
  {
   "cell_type": "markdown",
   "id": "5609b126",
   "metadata": {},
   "source": [
    "1. Read the **hacker_news.csv** file in as a list of lists.\n",
    "- Assign the result to the variable **hn**."
   ]
  },
  {
   "cell_type": "code",
   "execution_count": 1,
   "id": "a11a4695",
   "metadata": {},
   "outputs": [],
   "source": [
    "import csv"
   ]
  },
  {
   "cell_type": "code",
   "execution_count": 2,
   "id": "2ec1f29c",
   "metadata": {},
   "outputs": [],
   "source": [
    "hn = open('hacker_news.csv', encoding='utf-8')\n",
    "hn = csv.reader(hn)\n",
    "hn = list(hn)"
   ]
  },
  {
   "cell_type": "markdown",
   "id": "8353217c",
   "metadata": {},
   "source": [
    "2. Display the first five rows of **hn**."
   ]
  },
  {
   "cell_type": "code",
   "execution_count": 3,
   "id": "1cff4fb8",
   "metadata": {},
   "outputs": [
    {
     "name": "stdout",
     "output_type": "stream",
     "text": [
      "[['id', 'title', 'url', 'num_points', 'num_comments', 'author', 'created_at'], ['12224879', 'Interactive Dynamic Video', 'http://www.interactivedynamicvideo.com/', '386', '52', 'ne0phyte', '8/4/2016 11:52'], ['10975351', 'How to Use Open Source and Shut the Fuck Up at the Same Time', 'http://hueniverse.com/2016/01/26/how-to-use-open-source-and-shut-the-fuck-up-at-the-same-time/', '39', '10', 'josep2', '1/26/2016 19:30'], ['11964716', \"Florida DJs May Face Felony for April Fools' Water Joke\", 'http://www.thewire.com/entertainment/2013/04/florida-djs-april-fools-water-joke/63798/', '2', '1', 'vezycash', '6/23/2016 22:20'], ['11919867', 'Technology ventures: From Idea to Enterprise', 'https://www.amazon.com/Technology-Ventures-Enterprise-Thomas-Byers/dp/0073523429', '3', '1', 'hswarna', '6/17/2016 0:01']]\n"
     ]
    }
   ],
   "source": [
    "print(hn[0:5])"
   ]
  },
  {
   "cell_type": "markdown",
   "id": "6d15d7e6",
   "metadata": {},
   "source": [
    "## 2 Removing Headers from a List of Lists"
   ]
  },
  {
   "cell_type": "markdown",
   "id": "6be740eb",
   "metadata": {},
   "source": [
    "1. Extract the first row of data, and assign it to the variable **headers**."
   ]
  },
  {
   "cell_type": "code",
   "execution_count": 4,
   "id": "eba04e53",
   "metadata": {},
   "outputs": [],
   "source": [
    "headers = hn[0]"
   ]
  },
  {
   "cell_type": "markdown",
   "id": "c98bb85b",
   "metadata": {},
   "source": [
    "2. Remove the first row from **hn**."
   ]
  },
  {
   "cell_type": "code",
   "execution_count": 5,
   "id": "51d8a345",
   "metadata": {},
   "outputs": [],
   "source": [
    "hn = hn[1:]"
   ]
  },
  {
   "cell_type": "markdown",
   "id": "4dc353a6",
   "metadata": {},
   "source": [
    "3. Display **headers**."
   ]
  },
  {
   "cell_type": "code",
   "execution_count": 6,
   "id": "e9709de2",
   "metadata": {},
   "outputs": [
    {
     "name": "stdout",
     "output_type": "stream",
     "text": [
      "['id', 'title', 'url', 'num_points', 'num_comments', 'author', 'created_at']\n"
     ]
    }
   ],
   "source": [
    "print(headers)"
   ]
  },
  {
   "cell_type": "markdown",
   "id": "e1a9d88e",
   "metadata": {},
   "source": [
    "4. Display the first five rows of **hn** to verify that you removed the header row properly."
   ]
  },
  {
   "cell_type": "code",
   "execution_count": 7,
   "id": "8486e644",
   "metadata": {},
   "outputs": [
    {
     "name": "stdout",
     "output_type": "stream",
     "text": [
      "[['12224879', 'Interactive Dynamic Video', 'http://www.interactivedynamicvideo.com/', '386', '52', 'ne0phyte', '8/4/2016 11:52'], ['10975351', 'How to Use Open Source and Shut the Fuck Up at the Same Time', 'http://hueniverse.com/2016/01/26/how-to-use-open-source-and-shut-the-fuck-up-at-the-same-time/', '39', '10', 'josep2', '1/26/2016 19:30'], ['11964716', \"Florida DJs May Face Felony for April Fools' Water Joke\", 'http://www.thewire.com/entertainment/2013/04/florida-djs-april-fools-water-joke/63798/', '2', '1', 'vezycash', '6/23/2016 22:20'], ['11919867', 'Technology ventures: From Idea to Enterprise', 'https://www.amazon.com/Technology-Ventures-Enterprise-Thomas-Byers/dp/0073523429', '3', '1', 'hswarna', '6/17/2016 0:01'], ['10301696', 'Note by Note: The Making of Steinway L1037 (2007)', 'http://www.nytimes.com/2007/11/07/movies/07stein.html?_r=0', '8', '2', 'walterbell', '9/30/2015 4:12']]\n"
     ]
    }
   ],
   "source": [
    "print(hn[0:5])"
   ]
  },
  {
   "cell_type": "markdown",
   "id": "ed34514f",
   "metadata": {},
   "source": [
    "## 3. Extracting Ask HN and Show HN Posts"
   ]
  },
  {
   "cell_type": "markdown",
   "id": "f1a034be",
   "metadata": {},
   "source": [
    "1.Create three empty lists called **ask_posts**, **show_posts**, and **other_posts**."
   ]
  },
  {
   "cell_type": "code",
   "execution_count": 8,
   "id": "5f773630",
   "metadata": {},
   "outputs": [],
   "source": [
    "ask_posts = []\n",
    "show_posts = []\n",
    "other_posts = []"
   ]
  },
  {
   "cell_type": "markdown",
   "id": "f484d821",
   "metadata": {},
   "source": [
    "2. Loop through each row in **hn**.\n",
    "- Assign the title in each row to a variable named **title**.\n",
    "- Because the **title** column is the second column, you'll need to get the element at index **1** in each row.\n",
    "\n",
    "3. Implement the following steps:\n",
    "- If the lowercase version of **title** starts with **ask hn**, append the row to ask_posts.\n",
    " - Else, if the lowercase version of **title** starts with **show hn**, append the row to show_posts.\n",
    "- Else append to **other_posts**.\n"
   ]
  },
  {
   "cell_type": "code",
   "execution_count": 9,
   "id": "133a23e7",
   "metadata": {},
   "outputs": [],
   "source": [
    "for row in hn:\n",
    "    title = row[1]\n",
    "    if title.lower().startswith('ask hn'):\n",
    "        ask_posts.append(row)\n",
    "    elif title.lower().startswith('show hn'):\n",
    "        show_posts.append(row)\n",
    "    else:\n",
    "        other_posts.append(row)"
   ]
  },
  {
   "cell_type": "markdown",
   "id": "05e68857",
   "metadata": {},
   "source": [
    "4. Check the number of posts in **ask_posts**, **show_posts**, and **other_posts**."
   ]
  },
  {
   "cell_type": "code",
   "execution_count": 10,
   "id": "4ef4927e",
   "metadata": {},
   "outputs": [
    {
     "name": "stdout",
     "output_type": "stream",
     "text": [
      "Lenght of list ask_posts:  1744\n",
      "Lenght of list show_posts:  1162\n",
      "Lenght of list other_posts:  17194\n"
     ]
    }
   ],
   "source": [
    "print('Lenght of list ask_posts: ',len(ask_posts))\n",
    "print('Lenght of list show_posts: ',len(show_posts))\n",
    "print('Lenght of list other_posts: ',len(other_posts))"
   ]
  },
  {
   "cell_type": "markdown",
   "id": "ea3dc98f",
   "metadata": {},
   "source": [
    "## 4. Calculating the Average Number of Comments for Ask HN and Show HN Posts"
   ]
  },
  {
   "cell_type": "markdown",
   "id": "43b7bbb5",
   "metadata": {},
   "source": [
    "1. Find the total number of comments in ask posts, and assign it to **total_ask_comments**.\n",
    "- Set **total_ask_comments** to **0**."
   ]
  },
  {
   "cell_type": "code",
   "execution_count": 11,
   "id": "df7b6860",
   "metadata": {},
   "outputs": [],
   "source": [
    "total_ask_comments = 0"
   ]
  },
  {
   "cell_type": "markdown",
   "id": "5811c767",
   "metadata": {},
   "source": [
    "2. Use a for loop to iterate over the ask posts.\n",
    "- Because the **num_comments** column is the fifth column in **ask_posts**, you'll need to get the element at index 4 in each row.\n",
    "    - You'll also need to convert the value to an integer so that we can calculate the sum of all the comments.\n",
    "    - Add this value to **total_ask_comments**."
   ]
  },
  {
   "cell_type": "code",
   "execution_count": 12,
   "id": "9846083d",
   "metadata": {},
   "outputs": [],
   "source": [
    "for row in ask_posts:\n",
    "    num_comments = int(row[4])\n",
    "    total_ask_comments += num_comments"
   ]
  },
  {
   "cell_type": "code",
   "execution_count": 13,
   "id": "8601c657",
   "metadata": {},
   "outputs": [
    {
     "name": "stdout",
     "output_type": "stream",
     "text": [
      "24483\n"
     ]
    }
   ],
   "source": [
    "print(total_ask_comments)"
   ]
  },
  {
   "cell_type": "markdown",
   "id": "a3d3e776",
   "metadata": {},
   "source": [
    "3. Compute the average number of comments on ask posts, and assign it to **avg_ask_comments**.\n",
    "4. Print **avg_ask_comments**."
   ]
  },
  {
   "cell_type": "code",
   "execution_count": 14,
   "id": "4b68dc4e",
   "metadata": {},
   "outputs": [
    {
     "name": "stdout",
     "output_type": "stream",
     "text": [
      "14.038417431192661\n"
     ]
    }
   ],
   "source": [
    "avg_ask_comments = total_ask_comments / len(ask_posts)\n",
    "print(avg_ask_comments)"
   ]
  },
  {
   "cell_type": "markdown",
   "id": "d41779c9",
   "metadata": {},
   "source": [
    "5. Find the total number of comments in show posts, and assign it to **total_show_comments**.\n",
    "- Set **total_show_comments** to **0**."
   ]
  },
  {
   "cell_type": "code",
   "execution_count": 15,
   "id": "ac1db6f7",
   "metadata": {},
   "outputs": [],
   "source": [
    "total_show_comments = 0"
   ]
  },
  {
   "cell_type": "markdown",
   "id": "c2b81149",
   "metadata": {},
   "source": [
    "6. Use a for loop to iterate over the show posts.\n",
    "- Because the **num_comments** column is the fifth column in **show_posts**, you'll need to get the element at index 4 in each row.\n",
    "    - You'll also need to convert the value to an integer so that we can calculate the sum of all the comments.\n",
    "    - Add this value to **total_show_comments**."
   ]
  },
  {
   "cell_type": "code",
   "execution_count": 16,
   "id": "355e9f3c",
   "metadata": {},
   "outputs": [],
   "source": [
    "for row in show_posts:\n",
    "    num_comments = int(row[4])\n",
    "    total_show_comments += num_comments"
   ]
  },
  {
   "cell_type": "markdown",
   "id": "52982552",
   "metadata": {},
   "source": [
    "7. Compute the average number of comments on show posts, and assign it to **avg_show_comments**.\n",
    "8. Print **avg_show_comments**."
   ]
  },
  {
   "cell_type": "code",
   "execution_count": 17,
   "id": "b8d57c3d",
   "metadata": {},
   "outputs": [
    {
     "name": "stdout",
     "output_type": "stream",
     "text": [
      "10.31669535283993\n"
     ]
    }
   ],
   "source": [
    "avg_show_comments = total_show_comments / len(show_posts)\n",
    "print(avg_show_comments)"
   ]
  },
  {
   "cell_type": "markdown",
   "id": "ed713d55",
   "metadata": {},
   "source": [
    "9. Do show posts or ask posts receive more comments on average? Write a markdown cell explaining your findings.\n"
   ]
  },
  {
   "cell_type": "markdown",
   "id": "6c00e7e2",
   "metadata": {},
   "source": [
    "*Ask posts receive more coments than show posts. This difference is about 4 comments per post.*"
   ]
  },
  {
   "cell_type": "code",
   "execution_count": 18,
   "id": "0bf69a28",
   "metadata": {
    "scrolled": true
   },
   "outputs": [
    {
     "name": "stdout",
     "output_type": "stream",
     "text": [
      "3.7217220783527303\n"
     ]
    }
   ],
   "source": [
    "print(avg_ask_comments-avg_show_comments)"
   ]
  },
  {
   "cell_type": "markdown",
   "id": "daf54601",
   "metadata": {},
   "source": [
    "## 5. Finding the Number of Ask Posts and Comments by Hour Created"
   ]
  },
  {
   "cell_type": "markdown",
   "id": "67df1b75",
   "metadata": {},
   "source": [
    "1. Import the **datetime** module as **dt**."
   ]
  },
  {
   "cell_type": "code",
   "execution_count": 33,
   "id": "f2ab1ba4",
   "metadata": {},
   "outputs": [],
   "source": [
    "import datetime as dt"
   ]
  },
  {
   "cell_type": "markdown",
   "id": "ae0b1277",
   "metadata": {},
   "source": [
    "2. Create an empty list, and assign it to **result_list**. This will be a list of lists."
   ]
  },
  {
   "cell_type": "code",
   "execution_count": 34,
   "id": "114fae59",
   "metadata": {},
   "outputs": [],
   "source": [
    "result_list = []"
   ]
  },
  {
   "cell_type": "markdown",
   "id": "ceb13e0b",
   "metadata": {},
   "source": [
    "3. Iterate over **ask_posts**, and append to **result_list** a list with two elements:\n",
    "- The first element should be the column **created_at**.\n",
    "    - Because the **created_at** column is the seventh column in **ask_posts**, you'll need to get the element at index **6** in each row.\n",
    "- The second element should be the number of comments of the post.\n",
    "    - You'll also need to convert the value to an integer."
   ]
  },
  {
   "cell_type": "code",
   "execution_count": 35,
   "id": "b1a4142e",
   "metadata": {},
   "outputs": [],
   "source": [
    "for row in ask_posts:\n",
    "    created_at = row[6]\n",
    "    num_comments = int(row[4])\n",
    "    result_list.append([created_at,num_comments])"
   ]
  },
  {
   "cell_type": "code",
   "execution_count": 36,
   "id": "38e12ecd",
   "metadata": {},
   "outputs": [
    {
     "name": "stdout",
     "output_type": "stream",
     "text": [
      "[['8/16/2016 9:55', 6], ['11/22/2015 13:43', 29], ['5/2/2016 10:14', 1]]\n"
     ]
    }
   ],
   "source": [
    "print(result_list[:3])"
   ]
  },
  {
   "cell_type": "markdown",
   "id": "3602bb3d",
   "metadata": {},
   "source": [
    "4. Create two empty dictionaries called **counts_by_hour** and **comments_by_hour**."
   ]
  },
  {
   "cell_type": "code",
   "execution_count": 46,
   "id": "2bfa0bdf",
   "metadata": {},
   "outputs": [],
   "source": [
    "counts_by_hour = {}\n",
    "comments_by_hour = {}"
   ]
  },
  {
   "cell_type": "markdown",
   "id": "52bb2e99",
   "metadata": {},
   "source": [
    "5. Loop through each row of **result_list**.\n",
    "6. Extract the hour from the date, which is the first element of the row.\n",
    "7. Use the *datetime.strptime()* method to parse the date and create a datetime object.\n",
    "8. Use the string we want to parse as the first argument and a string that specifies the format as the second argument.\n",
    "- Use the *datetime.strftime()* method to select just the hour from the datetime object.\n",
    "- If the hour isn't a key in **counts_by_hour**:\n",
    "    - Create the key in **counts_by_hour**, and set it equal to **1**.\n",
    "    - Create the key in **comments_by_hour**, and set it equal to the **comment** number.\n",
    "- If the hour is already a key in **counts_by_hour**:\n",
    "    - Increment the value in **counts_by_hour** by **1**.\n",
    "    - Increment the value in **comments_by_hour** by the **comment** number."
   ]
  },
  {
   "cell_type": "code",
   "execution_count": 47,
   "id": "f212b863",
   "metadata": {},
   "outputs": [],
   "source": [
    "for row in result_list:\n",
    "    date = row[0]\n",
    "    comment = row[1]\n",
    "    date = dt.datetime.strptime(date, '%m/%d/%Y %H:%M')\n",
    "    hour = dt.datetime.strftime(date, '%H')\n",
    "    if hour not in counts_by_hour:\n",
    "        counts_by_hour[hour] = 1\n",
    "        comments_by_hour[hour] = comment\n",
    "    if hour in counts_by_hour:\n",
    "        counts_by_hour[hour] += 1\n",
    "        comments_by_hour[hour] += comment"
   ]
  },
  {
   "cell_type": "code",
   "execution_count": 44,
   "id": "921c529a",
   "metadata": {},
   "outputs": [
    {
     "name": "stdout",
     "output_type": "stream",
     "text": [
      "{'09': 46, '13': 86, '10': 60, '14': 108, '16': 109, '23': 69, '12': 74, '17': 101, '15': 117, '21': 110, '20': 81, '02': 59, '18': 110, '03': 55, '05': 47, '19': 111, '01': 61, '22': 72, '08': 49, '04': 48, '00': 56, '06': 45, '07': 35, '11': 59}\n"
     ]
    }
   ],
   "source": [
    "print(counts_by_hour)"
   ]
  },
  {
   "cell_type": "code",
   "execution_count": 45,
   "id": "a16416be",
   "metadata": {},
   "outputs": [
    {
     "name": "stdout",
     "output_type": "stream",
     "text": [
      "{'09': 257, '13': 1282, '10': 794, '14': 1419, '16': 1831, '23': 544, '12': 691, '17': 1147, '15': 4478, '21': 1749, '20': 1724, '02': 1384, '18': 1441, '03': 422, '05': 493, '19': 1191, '01': 716, '22': 481, '08': 497, '04': 340, '00': 457, '06': 398, '07': 269, '11': 643}\n"
     ]
    }
   ],
   "source": [
    "print(comments_by_hour)"
   ]
  },
  {
   "cell_type": "markdown",
   "id": "cebbfcce",
   "metadata": {},
   "source": [
    "## 6. Calculating the Average Number of Comments for Ask HN Posts by Hour"
   ]
  },
  {
   "cell_type": "markdown",
   "id": "fd0e7d15",
   "metadata": {},
   "source": [
    "1. Use the example above to calculate the average number of comments per post for posts created during each hour of the day."
   ]
  },
  {
   "cell_type": "code",
   "execution_count": 56,
   "id": "0f383ed7",
   "metadata": {},
   "outputs": [],
   "source": [
    "avg_by_hour = []\n",
    "\n",
    "for hour in comments_by_hour:\n",
    "    avg_by_hour.append([hour, comments_by_hour[hour]/counts_by_hour[hour]])"
   ]
  },
  {
   "cell_type": "code",
   "execution_count": 57,
   "id": "e7e760d5",
   "metadata": {
    "scrolled": true
   },
   "outputs": [
    {
     "name": "stdout",
     "output_type": "stream",
     "text": [
      "[['09', 5.586956521739131], ['13', 14.906976744186046], ['10', 13.233333333333333], ['14', 13.13888888888889], ['16', 16.798165137614678], ['23', 7.884057971014493], ['12', 9.337837837837839], ['17', 11.356435643564357], ['15', 38.27350427350427], ['21', 15.9], ['20', 21.28395061728395], ['02', 23.45762711864407], ['18', 13.1], ['03', 7.672727272727273], ['05', 10.48936170212766], ['19', 10.72972972972973], ['01', 11.737704918032787], ['22', 6.680555555555555], ['08', 10.142857142857142], ['04', 7.083333333333333], ['00', 8.160714285714286], ['06', 8.844444444444445], ['07', 7.685714285714286], ['11', 10.898305084745763]]\n"
     ]
    }
   ],
   "source": [
    "print(avg_by_hour)"
   ]
  },
  {
   "cell_type": "markdown",
   "id": "b5de4aad",
   "metadata": {},
   "source": [
    "## 7. Sorting and Printing Values from a List of Lists"
   ]
  },
  {
   "cell_type": "markdown",
   "id": "be9dfd6d",
   "metadata": {},
   "source": [
    "1. Create a list that equals **avg_by_hour** with swapped columns.\n",
    "- Create an empty list and assign it to **swap_avg_by_hour**.\n",
    "- Iterate over the rows of **avg_by_hour**, and append to **swap_avg_by_hour** a list whose first element is the second element of the row, and whose second element is the first element of the row."
   ]
  },
  {
   "cell_type": "code",
   "execution_count": 58,
   "id": "a07e2a1b",
   "metadata": {},
   "outputs": [],
   "source": [
    "swap_avg_by_hour = []\n",
    "for row in avg_by_hour:\n",
    "    swap_avg_by_hour.append([row[1],row[0]])"
   ]
  },
  {
   "cell_type": "markdown",
   "id": "6eba26c4",
   "metadata": {},
   "source": [
    "2. Print **swap_avg_by_hour**."
   ]
  },
  {
   "cell_type": "code",
   "execution_count": 59,
   "id": "96cdd00b",
   "metadata": {},
   "outputs": [
    {
     "name": "stdout",
     "output_type": "stream",
     "text": [
      "[[5.586956521739131, '09'], [14.906976744186046, '13'], [13.233333333333333, '10'], [13.13888888888889, '14'], [16.798165137614678, '16'], [7.884057971014493, '23'], [9.337837837837839, '12'], [11.356435643564357, '17'], [38.27350427350427, '15'], [15.9, '21'], [21.28395061728395, '20'], [23.45762711864407, '02'], [13.1, '18'], [7.672727272727273, '03'], [10.48936170212766, '05'], [10.72972972972973, '19'], [11.737704918032787, '01'], [6.680555555555555, '22'], [10.142857142857142, '08'], [7.083333333333333, '04'], [8.160714285714286, '00'], [8.844444444444445, '06'], [7.685714285714286, '07'], [10.898305084745763, '11']]\n"
     ]
    }
   ],
   "source": [
    "print(swap_avg_by_hour)"
   ]
  },
  {
   "cell_type": "markdown",
   "id": "0878f9c0",
   "metadata": {},
   "source": [
    "3. Use the *sorted()* function to sort **swap_avg_by_hour** in descending order. Since the first column of this list is the average number of comments, sorting the list will sort by the average number of comments.\n",
    "- Set the *reverse* argument to *True*, so that the highest value in the first column appears first in the list.\n",
    "- Assign the result to **sorted_swap**."
   ]
  },
  {
   "cell_type": "code",
   "execution_count": 73,
   "id": "0c3cf59e",
   "metadata": {},
   "outputs": [],
   "source": [
    "from operator import itemgetter\n",
    "sorted_swap = sorted(swap_avg_by_hour,key = itemgetter(0), reverse = True)"
   ]
  },
  {
   "cell_type": "code",
   "execution_count": 87,
   "id": "b42c7dba",
   "metadata": {},
   "outputs": [
    {
     "name": "stdout",
     "output_type": "stream",
     "text": [
      "Top 5 hours for Ask Posts Comments:\n",
      "\n",
      "15:00: 38.27 average comments per post\n",
      "02:00: 23.46 average comments per post\n",
      "20:00: 21.28 average comments per post\n",
      "16:00: 16.80 average comments per post\n",
      "21:00: 15.90 average comments per post\n"
     ]
    }
   ],
   "source": [
    "print('Top 5 hours for Ask Posts Comments:\\n')\n",
    "for row in sorted_swap[:5]:\n",
    "    format_hour = dt.datetime.strptime(row[1],'%H')\n",
    "    format_hour = dt.datetime.strftime(format_hour,'%H:%M')\n",
    "    print(\"{}: {:.2f} average comments per post\".format(format_hour,row[0]))"
   ]
  },
  {
   "cell_type": "markdown",
   "id": "cb8ced24",
   "metadata": {},
   "source": [
    "## Conclusion"
   ]
  },
  {
   "cell_type": "markdown",
   "id": "1f37b1c0",
   "metadata": {},
   "source": [
    "The best hours to add a posts are in the afternoon between 3-5pm. It is also worth adding posts in the evening, between 8-10pm. In these period of time, users often respond on the questions. This is probably due to free time. Most of users probably are in work or school to 3PM, after that they are sit in front of the computer and respond on the questions."
   ]
  }
 ],
 "metadata": {
  "kernelspec": {
   "display_name": "Python 3 (ipykernel)",
   "language": "python",
   "name": "python3"
  },
  "language_info": {
   "codemirror_mode": {
    "name": "ipython",
    "version": 3
   },
   "file_extension": ".py",
   "mimetype": "text/x-python",
   "name": "python",
   "nbconvert_exporter": "python",
   "pygments_lexer": "ipython3",
   "version": "3.11.3"
  }
 },
 "nbformat": 4,
 "nbformat_minor": 5
}
